{
 "cells": [
  {
   "cell_type": "markdown",
   "metadata": {},
   "source": [
    "Write a Python program to implement a Multi-Layer Perceptron (MLP) for classifying whether a student passes or fails using a dataset of students' course marks."
   ]
  },
  {
   "cell_type": "code",
   "execution_count": 20,
   "metadata": {},
   "outputs": [
    {
     "name": "stdout",
     "output_type": "stream",
     "text": [
      "Input-Hidden Weights:\n",
      " [[-0.29566566 -0.06310135  0.41898353 -0.05605992]\n",
      " [-0.087182   -0.60413012  0.17030378 -0.5394112 ]\n",
      " [-0.32295963 -0.08301213 -0.37512255 -0.98291623]\n",
      " [ 0.17780732 -0.84257121  0.14854828 -0.84396401]\n",
      " [-0.15031219 -0.37544889  0.17065824 -1.16808103]\n",
      " [-0.38596397 -0.20979318  0.34222245 -0.69259762]]\n",
      "Hidden-Output Weights:\n",
      " [[-0.24410555]\n",
      " [ 1.13980737]\n",
      " [-0.5982828 ]\n",
      " [-0.55066481]]\n",
      "Test Accuracy: 50.00%\n"
     ]
    }
   ],
   "source": [
    "import numpy as np\n",
    "import pandas as pd\n",
    "\n",
    "train_path = r\"E:\\SRM\\Soft Computing\\Lab 6\\students_testing.csv\"\n",
    "train_df = pd.read_csv(train_path)\n",
    "test_path = r\"E:\\SRM\\Soft Computing\\Lab 6\\training_dataset_students(1000).csv\"\n",
    "test_df = pd.read_csv(test_path)\n",
    "\n",
    "X_train = train_df[['c1', 'c2', 'c3', 'c4', 'c5', 'c6']].values\n",
    "y_train = train_df[['result']].values\n",
    "\n",
    "X_test = test_df[['c1', 'c2', 'c3', 'c4', 'c5', 'c6']].values\n",
    "y_test = test_df[['result']].values\n",
    "\n",
    "class MLP:\n",
    "    def __init__(self, input_size, hidden_size, learning_rate=0.1, iterations=100):\n",
    "        self.learning_rate = learning_rate\n",
    "        self.iterations = iterations\n",
    "        self.weights_input_hidden = np.random.uniform(-0.5, 0.5, (input_size, hidden_size))\n",
    "        self.bias_hidden = np.zeros(hidden_size)\n",
    "        self.weights_hidden_output = np.random.uniform(-0.5, 0.5, (hidden_size, 1))\n",
    "        self.bias_output = np.zeros(1)\n",
    "\n",
    "    def sigmoid(self, x):\n",
    "        return 1 / (1 + np.exp(-x))\n",
    "\n",
    "    def predict(self, X):\n",
    "        hidden_input = np.dot(X, self.weights_input_hidden) + self.bias_hidden\n",
    "        hidden_output = self.sigmoid(hidden_input)\n",
    "\n",
    "        final_input = np.dot(hidden_output, self.weights_hidden_output) + self.bias_output\n",
    "        final_output = self.sigmoid(final_input)\n",
    "        return np.round(final_output)\n",
    "\n",
    "    def train(self, X, y):\n",
    "        for epoch in range(self.iterations):\n",
    "            for i in range(len(X)):\n",
    "                hidden_input = np.dot(X[i], self.weights_input_hidden) + self.bias_hidden\n",
    "                hidden_output = self.sigmoid(hidden_input)\n",
    "\n",
    "                final_input = np.dot(hidden_output, self.weights_hidden_output) + self.bias_output\n",
    "                final_output = self.sigmoid(final_input)\n",
    "                y_pred = np.round(final_output)\n",
    "                \n",
    "                output_error = y[i] - final_output\n",
    "                hidden_error = output_error.dot(self.weights_hidden_output.T) * hidden_output * (1 - hidden_output)\n",
    "\n",
    "                self.weights_hidden_output += self.learning_rate * np.outer(hidden_output, output_error)\n",
    "                self.bias_output += self.learning_rate * output_error\n",
    "\n",
    "                self.weights_input_hidden += self.learning_rate * np.outer(X[i], hidden_error)\n",
    "                self.bias_hidden += self.learning_rate * hidden_error\n",
    "\n",
    "    def print_weights(self):\n",
    "        print(\"Input-Hidden Weights:\\n\", self.weights_input_hidden)\n",
    "        print(\"Hidden-Output Weights:\\n\", self.weights_hidden_output)\n",
    "\n",
    "input_size = X_train.shape[1]  \n",
    "hidden_size = 4 \n",
    "\n",
    "mlp = MLP(input_size=input_size, hidden_size=hidden_size, learning_rate=0.1, iterations=100)\n",
    "\n",
    "mlp.train(X_train, y_train)\n",
    "\n",
    "mlp.print_weights()\n",
    "\n",
    "predictions = mlp.predict(X_test)\n",
    "accuracy = np.mean(predictions == y_test)\n",
    "print(f\"Test Accuracy: {accuracy * 100:.2f}%\")"
   ]
  },
  {
   "cell_type": "code",
   "execution_count": null,
   "metadata": {},
   "outputs": [],
   "source": []
  }
 ],
 "metadata": {
  "kernelspec": {
   "display_name": "Python 3 (ipykernel)",
   "language": "python",
   "name": "python3"
  }
 },
 "nbformat": 4,
 "nbformat_minor": 4
}
