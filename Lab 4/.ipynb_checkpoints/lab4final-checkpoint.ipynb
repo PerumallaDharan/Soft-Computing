{
 "cells": [
  {
   "cell_type": "markdown",
   "id": "9ba1bd52-76b9-480a-bd62-8afacca8220c",
   "metadata": {},
   "source": [
    "Write a Python program to implement a Multi-Layer Perceptron (MLP) on logical XOR function. Take the binary inputs and outputs."
   ]
  },
  {
   "cell_type": "code",
   "execution_count": 6,
   "id": "7ea97749-e825-4c64-a799-7bbf4b15fbba",
   "metadata": {},
   "outputs": [
    {
     "name": "stdout",
     "output_type": "stream",
     "text": [
      "Input-Hidden Weights:\n",
      " [[-24.55377215   2.08147086]\n",
      " [  0.8444042   -1.65447977]]\n",
      "Hidden-Output Weights:\n",
      " [[0.37799175]\n",
      " [0.25812419]]\n",
      "Predictions after training:\n",
      "[[0.]\n",
      " [1.]\n",
      " [1.]\n",
      " [0.]]\n"
     ]
    }
   ],
   "source": [
    "import numpy as np\n",
    "\n",
    "class MLP:\n",
    "    def __init__(self, learning_rate=0.1, iterations=10000):\n",
    "        self.learning_rate = learning_rate\n",
    "        self.iterations = iterations\n",
    "\n",
    "        self.weights_input_hidden = np.random.uniform(-0.5, 0.5, (2, 2))\n",
    "        self.bias_hidden = np.zeros(2)\n",
    "        self.weights_hidden_output = np.random.uniform(-0.5, 0.5, (2, 1))\n",
    "        self.bias_output = np.zeros(1)\n",
    "\n",
    "    def sigmoid(self, x):\n",
    "        return 1 / (1 + np.exp(-x))\n",
    "\n",
    "    def predict(self, X):\n",
    "        hidden_input = np.dot(X, self.weights_input_hidden) + self.bias_hidden\n",
    "        hidden_output = self.sigmoid(hidden_input)\n",
    "\n",
    "        final_input = np.dot(hidden_output, self.weights_hidden_output) + self.bias_output\n",
    "        final_output = self.sigmoid(final_input)\n",
    "        return np.round(final_output)\n",
    "\n",
    "    def train(self, X, y):\n",
    "        for epoch in range(self.iterations):\n",
    "            for i in range(len(X)):\n",
    "         \n",
    "                hidden_input = np.dot(X[i], self.weights_input_hidden) + self.bias_hidden\n",
    "                hidden_output = self.sigmoid(hidden_input)\n",
    "\n",
    "                final_input = np.dot(hidden_output, self.weights_hidden_output) + self.bias_output\n",
    "                final_output = self.sigmoid(final_input)\n",
    "     \n",
    "                y_pred = np.round(final_output)\n",
    "               \n",
    "                if y_pred != y[i]:\n",
    "\n",
    "                    output_error = y[i] - final_output\n",
    "                    hidden_error = output_error.dot(self.weights_hidden_output.T)\n",
    "\n",
    "                    self.weights_hidden_output += self.learning_rate * np.outer(hidden_output, output_error)\n",
    "                    self.bias_output += self.learning_rate * output_error\n",
    "\n",
    "                    self.weights_input_hidden += self.learning_rate * np.outer(X[i], hidden_error)\n",
    "                    self.bias_hidden += self.learning_rate * hidden_error\n",
    "\n",
    "    def print_weights(self):\n",
    "        print(\"Input-Hidden Weights:\\n\", self.weights_input_hidden)\n",
    "        print(\"Hidden-Output Weights:\\n\", self.weights_hidden_output)\n",
    "\n",
    "X = np.array([[0, 0],\n",
    "              [0, 1],\n",
    "              [1, 0],\n",
    "              [1, 1]])\n",
    "\n",
    "y = np.array([[0], [1], [1], [0]])\n",
    "\n",
    "mlp = MLP(learning_rate=0.1, iterations=10000)\n",
    "\n",
    "mlp.train(X, y)\n",
    "\n",
    "mlp.print_weights()\n",
    "\n",
    "predictions = mlp.predict(X)\n",
    "print(\"Predictions after training:\")\n",
    "print(np.round(predictions))\n"
   ]
  },
  {
   "cell_type": "code",
   "execution_count": null,
   "id": "e9b003cb-756e-447a-a9a0-a13eacd32f23",
   "metadata": {},
   "outputs": [],
   "source": []
  }
 ],
 "metadata": {
  "kernelspec": {
   "display_name": "Python 3 (ipykernel)",
   "language": "python",
   "name": "python3"
  },
  "language_info": {
   "codemirror_mode": {
    "name": "ipython",
    "version": 3
   },
   "file_extension": ".py",
   "mimetype": "text/x-python",
   "name": "python",
   "nbconvert_exporter": "python",
   "pygments_lexer": "ipython3",
   "version": "3.11.4"
  }
 },
 "nbformat": 4,
 "nbformat_minor": 5
}
