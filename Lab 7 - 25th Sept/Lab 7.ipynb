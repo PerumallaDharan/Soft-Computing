{
 "cells": [
  {
   "cell_type": "markdown",
   "id": "d8578310-c705-410b-9aab-7aba42018bed",
   "metadata": {},
   "source": [
    "### Write a Python program to train a Back Propagation Neural Network (BPNN) for classifying whether a student passes or fails using a dataset of students' course marks. Assume necessary parameters.\n"
   ]
  },
  {
   "cell_type": "code",
   "execution_count": 1,
   "id": "360fbc39",
   "metadata": {},
   "outputs": [],
   "source": [
    "import numpy as np\n",
    "import pandas as pd "
   ]
  },
  {
   "cell_type": "code",
   "execution_count": 5,
   "id": "e60762d2-9ae0-45e5-8004-797ec52774a7",
   "metadata": {},
   "outputs": [],
   "source": [
    "train_path = 'E:\\\\SRM\\\\Soft Computing\\\\Lab 7 - 25th Sept\\\\training_dataset_students(1000).csv'\n",
    "train_df = pd.read_csv(train_path)\n",
    "\n",
    "test_path = 'E:\\\\SRM\\\\Soft Computing\\\\Lab 7 - 25th Sept\\\\students_testing.csv'\n",
    "test_df = pd.read_csv(test_path)"
   ]
  },
  {
   "cell_type": "code",
   "execution_count": 7,
   "id": "655e7ea8",
   "metadata": {},
   "outputs": [],
   "source": [
    "X_train = train_df[['c1','c2','c3','c4','c5','c6']].values\n",
    "y_train = train_df[['result']].values\n",
    "\n",
    "X_test = train_df[['c1','c2','c3','c4','c5','c6']].values\n",
    "y_test = train_df[['result']].values\n"
   ]
  },
  {
   "cell_type": "code",
   "execution_count": 8,
   "id": "5675be3a",
   "metadata": {},
   "outputs": [],
   "source": [
    "class BPNN:\n",
    "    def __init__(self, input_size, hidden_size, learning_rate=0.1, epochs=100):\n",
    "        self.learning_rate = learning_rate\n",
    "        self.epochs = epochs\n",
    "        self.weights_input_hidden = np.random.uniform(-0.5, 0.5, (input_size, hidden_size))\n",
    "        self.bias_hidden = np.zeros(hidden_size)\n",
    "        self.weights_hidden_output = np.random.uniform(-0.5, 0.5, (hidden_size, 1))\n",
    "        self.bias_output = np.zeros(1)\n",
    "        \n",
    "    def sigmoid(self, x):\n",
    "        return 1 / (1 + np.exp(-x))\n",
    "    \n",
    "    def sigmoid_derivative(self, x):\n",
    "        return x * (1 - x)\n",
    "    \n",
    "    def predict(self, X):\n",
    "        hidden_input = np.dot(X, self.weights_input_hidden) + self.bias_hidden\n",
    "        hidden_output = self.sigmoid(hidden_input)\n",
    "        final_input = np.dot(hidden_output, self.weights_hidden_output) + self.bias_output\n",
    "        final_output = self.sigmoid(final_input)\n",
    "        return np.round(final_output)\n",
    "\n",
    "    def train(self, X, y):\n",
    "        for epoch in range(self.epochs):\n",
    "            for i in range(len(X)):\n",
    "                # Forward pass\n",
    "                hidden_input = np.dot(X[i], self.weights_input_hidden) + self.bias_hidden\n",
    "                hidden_output = self.sigmoid(hidden_input)\n",
    "                final_input = np.dot(hidden_output, self.weights_hidden_output) + self.bias_output\n",
    "                final_output = self.sigmoid(final_input)\n",
    "\n",
    "                # Backward pass (Backpropagation)\n",
    "                output_error = y[i] - final_output\n",
    "                hidden_error = output_error * self.sigmoid_derivative(final_output)\n",
    "                \n",
    "                self.weights_hidden_output += self.learning_rate * np.outer(hidden_output, output_error)\n",
    "                self.bias_output += self.learning_rate * output_error\n",
    "\n",
    "                hidden_delta = hidden_error.dot(self.weights_hidden_output.T) * self.sigmoid_derivative(hidden_output)\n",
    "                self.weights_input_hidden += self.learning_rate * np.outer(X[i], hidden_delta)\n",
    "                self.bias_hidden += self.learning_rate * hidden_delta\n",
    "\n",
    "    def evaluate(self, X, y):\n",
    "        predictions = self.predict(X)\n",
    "        accuracy = np.mean(predictions == y)\n",
    "        return accuracy\n"
   ]
  },
  {
   "cell_type": "code",
   "execution_count": 9,
   "id": "e469df05",
   "metadata": {},
   "outputs": [
    {
     "name": "stdout",
     "output_type": "stream",
     "text": [
      "Test Accuracy: 55.80%\n"
     ]
    }
   ],
   "source": [
    "# Initialize and train the BPNN\n",
    "input_size = X_train.shape[1]  \n",
    "hidden_size = 4  # You can adjust the hidden layer size\n",
    "bpnn = BPNN(input_size=input_size, hidden_size=hidden_size, learning_rate=0.1, epochs=100)\n",
    "\n",
    "bpnn.train(X_train, y_train)\n",
    "\n",
    "# Evaluate on test data\n",
    "test_accuracy = bpnn.evaluate(X_test, y_test)\n",
    "print(f\"Test Accuracy: {test_accuracy * 100:.2f}%\")"
   ]
  },
  {
   "cell_type": "code",
   "execution_count": null,
   "id": "7e4367f1",
   "metadata": {},
   "outputs": [],
   "source": []
  }
 ],
 "metadata": {
  "kernelspec": {
   "display_name": "Python 3 (ipykernel)",
   "language": "python",
   "name": "python3"
  },
  "language_info": {
   "codemirror_mode": {
    "name": "ipython",
    "version": 3
   },
   "file_extension": ".py",
   "mimetype": "text/x-python",
   "name": "python",
   "nbconvert_exporter": "python",
   "pygments_lexer": "ipython3",
   "version": "3.11.4"
  }
 },
 "nbformat": 4,
 "nbformat_minor": 5
}
