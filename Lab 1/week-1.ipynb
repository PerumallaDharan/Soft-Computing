{
 "cells": [
  {
   "cell_type": "markdown",
   "metadata": {},
   "source": [
    "Write a Python program to check whether a student has failed or not: The input data is students' semester marks, which is supplied as an external file.\n"
   ]
  },
  {
   "cell_type": "code",
   "execution_count": 7,
   "metadata": {},
   "outputs": [],
   "source": [
    "import numpy as np\n",
    "import pandas as pd"
   ]
  },
  {
   "cell_type": "code",
   "execution_count": 8,
   "metadata": {},
   "outputs": [
    {
     "name": "stdout",
     "output_type": "stream",
     "text": [
      "[58 17 74 58 11 63] --> Fail\n",
      "[56 74 99 26 10  3] --> Fail\n",
      "[41 16 32 26 94 47] --> Fail\n",
      "[62 32 70 25 49 37] --> Fail\n",
      "[60 76 20  4 41 58] --> Fail\n",
      "[42 66 15 84 38 15] --> Fail\n",
      "[64 79 58 68 65 66] --> Pass\n",
      "[43 93 82 92 15 73] --> Fail\n",
      "[56 57 10 21 94 27] --> Fail\n",
      "[95 87 99 93 60 33] --> Fail\n",
      "[33 34 90 39 29 50] --> Fail\n",
      "[ 66  86  35  56  79 100] --> Fail\n",
      "[66 21 46 34 38 57] --> Fail\n",
      "[81 81  1 18 78 67] --> Fail\n",
      "[30 77 64 13 36 97] --> Fail\n"
     ]
    }
   ],
   "source": [
    "data=pd.read_csv('Student_data.csv')\n",
    "marks=data[['c1','c2','c3','c4','c5','c6']].values\n",
    "for X in marks:\n",
    "    flag=0\n",
    "    for i in X:\n",
    "        if i<50:\n",
    "            flag=1\n",
    "            break\n",
    "    print(X,end=' --> ')\n",
    "    if(flag):\n",
    "        print('Fail')\n",
    "    else:\n",
    "        print('Pass')\n",
    "            \n",
    "\n"
   ]
  }
 ],
 "metadata": {
  "kernelspec": {
   "display_name": "Python 3",
   "language": "python",
   "name": "python3"
  },
  "language_info": {
   "codemirror_mode": {
    "name": "ipython",
    "version": 3
   },
   "file_extension": ".py",
   "mimetype": "text/x-python",
   "name": "python",
   "nbconvert_exporter": "python",
   "pygments_lexer": "ipython3",
   "version": "3.11.4"
  }
 },
 "nbformat": 4,
 "nbformat_minor": 2
}
