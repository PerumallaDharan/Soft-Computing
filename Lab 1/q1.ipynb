{
 "cells": [
  {
   "cell_type": "code",
   "execution_count": 1,
   "metadata": {},
   "outputs": [
    {
     "name": "stdout",
     "output_type": "stream",
     "text": [
      "58 17 74 58 11 63\n",
      "56 74 99 26 10 3\n",
      "41 16 32 26 94 47\n",
      "62 32 70 25 49 37\n",
      "60 76 20 4 41 58\n",
      "42 66 15 84 38 15\n",
      "64 79 58 68 65 66\n",
      "43 93 82 92 15 73\n",
      "56 57 10 21 94 27\n",
      "95 87 99 93 60 33\n",
      "33 34 90 39 29 50\n",
      "66 86 35 56 79 100\n",
      "66 21 46 34 38 57\n",
      "81 81 1 18 78 67\n",
      "30 77 64 13 36 97\n"
     ]
    }
   ],
   "source": [
    "import random, csv\n",
    "\n",
    "inp = int(input(\"Enter the number of rows: \"))\n",
    "\n",
    "with open('Student_data.csv', 'w', newline='') as file:\n",
    "    writer = csv.writer(file)\n",
    "    \n",
    "    # Writing header row\n",
    "    writer.writerow(['st_id', 'c1', 'c2', 'c3', 'c4', 'c5', 'c6'])\n",
    "\n",
    "    for i in range(inp):\n",
    "        # Generating a row with st_id and six random numbers\n",
    "        row = [i + 1]\n",
    "        row.extend(random.randint(0, 100) for _ in range(6))\n",
    "        \n",
    "        # Writing the row to the CSV file\n",
    "        writer.writerow(row)\n",
    "        \n",
    "        # Printing the same row to the console\n",
    "        print(\" \".join(map(str, row[1:])))\n"
   ]
  }
 ],
 "metadata": {
  "kernelspec": {
   "display_name": "Python 3",
   "language": "python",
   "name": "python3"
  },
  "language_info": {
   "codemirror_mode": {
    "name": "ipython",
    "version": 3
   },
   "file_extension": ".py",
   "mimetype": "text/x-python",
   "name": "python",
   "nbconvert_exporter": "python",
   "pygments_lexer": "ipython3",
   "version": "3.11.4"
  }
 },
 "nbformat": 4,
 "nbformat_minor": 2
}
