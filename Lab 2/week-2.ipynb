{
 "cells": [
  {
   "cell_type": "code",
   "execution_count": 58,
   "metadata": {},
   "outputs": [],
   "source": [
    "import pandas as pd\n",
    "from sklearn.model_selection import train_test_split\n",
    "from sklearn.tree import DecisionTreeClassifier\n",
    "from sklearn.neighbors import KNeighborsClassifier\n",
    "from sklearn.svm import SVC\n",
    "from sklearn.linear_model import Perceptron\n",
    "from sklearn.metrics import accuracy_score, classification_report"
   ]
  },
  {
   "cell_type": "code",
   "execution_count": 59,
   "metadata": {},
   "outputs": [],
   "source": [
    "data = pd.read_csv('training_dataset_students(1000).csv')\n",
    "y = data.iloc[:, -1].values \n",
    "X = data.iloc[:, 1:-1].values \n"
   ]
  },
  {
   "cell_type": "code",
   "execution_count": 60,
   "metadata": {},
   "outputs": [],
   "source": [
    "X_train, X_test, y_train, y_test = train_test_split(X, y, test_size=0.3, random_state=42)"
   ]
  },
  {
   "cell_type": "markdown",
   "metadata": {},
   "source": [
    "### Decision Tree"
   ]
  },
  {
   "cell_type": "code",
   "execution_count": 61,
   "metadata": {},
   "outputs": [
    {
     "name": "stdout",
     "output_type": "stream",
     "text": [
      "Decision Tree:\n",
      "Accuracy: 100.0 %\n"
     ]
    }
   ],
   "source": [
    "dt_model = DecisionTreeClassifier()\n",
    "dt_model.fit(X_train, y_train)\n",
    "y_pred_dt = dt_model.predict(X_test)\n",
    "print(\"Decision Tree:\")\n",
    "print(\"Accuracy:\", round(accuracy_score(y_test, y_pred_dt)*100,2),\"%\")"
   ]
  },
  {
   "cell_type": "markdown",
   "metadata": {},
   "source": [
    "### KNN"
   ]
  },
  {
   "cell_type": "code",
   "execution_count": 62,
   "metadata": {},
   "outputs": [
    {
     "name": "stdout",
     "output_type": "stream",
     "text": [
      "\n",
      "KNN:\n",
      "Accuracy: 93.0 %\n"
     ]
    }
   ],
   "source": [
    "knn_model = KNeighborsClassifier()\n",
    "knn_model.fit(X_train, y_train)\n",
    "y_pred_knn = knn_model.predict(X_test)\n",
    "print(\"\\nKNN:\")\n",
    "print(\"Accuracy:\", round(accuracy_score(y_test, y_pred_knn)*100,2),\"%\")"
   ]
  },
  {
   "cell_type": "markdown",
   "metadata": {},
   "source": [
    "### SVM"
   ]
  },
  {
   "cell_type": "code",
   "execution_count": 63,
   "metadata": {},
   "outputs": [
    {
     "name": "stdout",
     "output_type": "stream",
     "text": [
      "\n",
      "SVM:\n",
      "Accuracy: 97.0 %\n"
     ]
    }
   ],
   "source": [
    "svm_model = SVC()\n",
    "svm_model.fit(X_train, y_train)\n",
    "y_pred_svm = svm_model.predict(X_test)\n",
    "print(\"\\nSVM:\")\n",
    "print(\"Accuracy:\", round(accuracy_score(y_test, y_pred_svm)*100,2),\"%\")"
   ]
  },
  {
   "cell_type": "markdown",
   "metadata": {},
   "source": [
    "### Perceptron"
   ]
  },
  {
   "cell_type": "code",
   "execution_count": 64,
   "metadata": {},
   "outputs": [
    {
     "name": "stdout",
     "output_type": "stream",
     "text": [
      "\n",
      "Perceptron:\n",
      "Accuracy: 52.67 %\n"
     ]
    }
   ],
   "source": [
    "perceptron_model = Perceptron()\n",
    "perceptron_model.fit(X_train, y_train)\n",
    "y_pred_perceptron = perceptron_model.predict(X_test)\n",
    "print(\"\\nPerceptron:\")\n",
    "print(\"Accuracy:\", round(accuracy_score(y_test, y_pred_perceptron)*100,2),\"%\")"
   ]
  },
  {
   "cell_type": "code",
   "execution_count": 66,
   "metadata": {},
   "outputs": [
    {
     "name": "stdout",
     "output_type": "stream",
     "text": [
      "[[32 21 93 78 93 53]\n",
      " [81 95 68 75 82 83]\n",
      " [ 8  5 31 49 21 17]\n",
      " [80 47 25 37 27 56]\n",
      " [53 68 95 50 68 54]\n",
      " [73 63 66 56 34 76]\n",
      " [ 0 37 12 41 19 16]\n",
      " [78 17 47 86 79 26]\n",
      " [71 65 64 42  6 85]\n",
      " [21 49 67 93 80 32]\n",
      " [50 55 56 56 58 59]]\n",
      "\n",
      "Decision Tree Prediction for New Data: [0 1 0 0 1 0 0 0 0 0 1]\n",
      "KNN Prediction for New Data: [0 1 0 0 1 1 0 0 0 0 1]\n",
      "SVM Prediction for New Data: [0 1 0 0 1 1 0 0 0 0 1]\n",
      "Perceptron Prediction for New Data: [1 1 0 1 1 1 1 1 1 1 1]\n"
     ]
    }
   ],
   "source": [
    "data = pd.read_csv('students_testing.csv') \n",
    "new_data = data.iloc[:, 1:-1].values \n",
    "\n",
    "print(new_data)\n",
    "\n",
    "pred_dt_new = dt_model.predict(new_data)\n",
    "print(\"\\nDecision Tree Prediction for New Data:\", pred_dt_new)\n",
    "\n",
    "pred_knn_new = knn_model.predict(new_data)\n",
    "print(\"KNN Prediction for New Data:\", pred_knn_new)\n",
    "\n",
    "pred_svm_new = svm_model.predict(new_data)\n",
    "print(\"SVM Prediction for New Data:\", pred_svm_new)\n",
    "\n",
    "pred_perceptron_new = perceptron_model.predict(new_data)\n",
    "print(\"Perceptron Prediction for New Data:\", pred_perceptron_new)"
   ]
  },
  {
   "cell_type": "code",
   "execution_count": null,
   "metadata": {},
   "outputs": [],
   "source": []
  }
 ],
 "metadata": {
  "kernelspec": {
   "display_name": "Python 3 (ipykernel)",
   "language": "python",
   "name": "python3"
  },
  "language_info": {
   "codemirror_mode": {
    "name": "ipython",
    "version": 3
   },
   "file_extension": ".py",
   "mimetype": "text/x-python",
   "name": "python",
   "nbconvert_exporter": "python",
   "pygments_lexer": "ipython3",
   "version": "3.11.4"
  }
 },
 "nbformat": 4,
 "nbformat_minor": 4
}
